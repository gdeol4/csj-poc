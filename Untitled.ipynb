{
 "cells": [
  {
   "cell_type": "code",
   "execution_count": 1,
   "id": "4f020c7d",
   "metadata": {},
   "outputs": [],
   "source": [
    "import pandas as pd\n",
    "from Bio.SeqIO.FastaIO import SimpleFastaParser\n",
    "\n",
    "fasta = open(\"human_proteome.fasta\")\n",
    "df_drugs = pd.read_csv('cann_mols.csv')  \n",
    "\n",
    "fasta_list = list(SimpleFastaParser(fasta))\n",
    "\n",
    "protein_df = pd.DataFrame(fasta_list, columns=['info', 'sequence'])\n",
    "\n",
    "def string_splitter(string):\n",
    "    string = string.split(\"HUMAN\",1)[1]\n",
    "    string = string.split(\"OS=Homo sapiens\")\n",
    "    \n",
    "    return string\n",
    "\n",
    "def info_parser(dfx):\n",
    "    df = dfx.copy()\n",
    "    df = df['info'].str.split('|', expand=True) # split on the \"|\" character\n",
    "    df.columns = ['type', 'id', 'info'] # rename the three columns\n",
    "\n",
    "    return df\n",
    "\n",
    "def info_pre_processed(dfx):\n",
    "    df = dfx.copy() # create a copy of df\n",
    "    list_of_info = list(dfx['info']) # convert column values to list\n",
    "    list_of_info = [string_splitter(x) for x in list_of_info] # apply string_splitter function to list elements\n",
    "    df['temp_col'] = list_of_info # create a temporary column from the processed list\n",
    "    df.drop(\"info\", axis=1, inplace=True) # drop info column\n",
    "    split_df = pd.DataFrame(df['temp_col'].tolist(), columns=['Protein name', 'info']) # creating this dataframe to merge back onto processed dataframe\n",
    "    df.drop(\"temp_col\", axis=1, inplace=True) # dropping temp_col\n",
    "    df = pd.concat([df, split_df], axis=1) # merging both dataframes\n",
    "\n",
    "    return df\n",
    "    \n",
    "def info_processed(dfx):\n",
    "    df = dfx.copy() # create a copy of the dataframe\n",
    "    split_df = df['info'].str.split(' ', expand=True) # creating a seperate dataframe to merge with\n",
    "    df = pd.concat([df, split_df], axis=1) # merge dataframes\n",
    "    df.drop(\"info\", axis=1, inplace=True) # drop info column\n",
    "    df.columns = ['type', 'id', 'Protein name', 'drop', 'Species', 'Gene', 'PE', 'Mutation'] # rename columns\n",
    "    df.drop(\"drop\", axis=1, inplace=True) # drop empty column\n",
    "    df = pd.concat([df, protein_df], axis=1) # merge dataframes\n",
    "    df.drop(\"info\", axis=1, inplace=True) # drop info column\n",
    "    df.drop('Species', axis=1, inplace=True) # drop column\n",
    "    df['Gene'] = df['Gene'].str[3:] # strip first 3 characters\n",
    "    \n",
    "    return df\n",
    "\n",
    "clean_proteins =(protein_df.\n",
    "                 pipe(info_parser).\n",
    "                 pipe(info_pre_processed).\n",
    "                 pipe(info_processed))\n",
    "\n",
    "df_targets = clean_proteins[['Protein name','sequence']].copy() # making a copy of the clean dataframe.\n",
    "\n",
    "df_targets['drug_name'] = df_drugs['Name'][0] # adding a column with a constant value of \"cannaflavin a\".\n",
    "df_targets['SMILES'] = df_drugs['SMILES'][0] # adding a column with a constant value of \"cannaflavin a\" SMILES string.\n",
    "\n",
    "target_name = df_targets['Protein name'].tolist()\n",
    "target = df_targets.sequence.tolist()\n",
    "drug_name = df_targets.drug_name.tolist()\n",
    "drug = df_targets.SMILES.tolist()\n",
    "\n",
    "df_targets.to_csv('proteome_clean.csv') # save dataframe as csv"
   ]
  },
  {
   "cell_type": "code",
   "execution_count": 2,
   "id": "8808fffe",
   "metadata": {},
   "outputs": [],
   "source": [
    "f = open('virtual_screening_Transformer_CNN_BindingDB.txt', 'r')\n",
    "file_contents = f.read()"
   ]
  },
  {
   "cell_type": "code",
   "execution_count": 9,
   "id": "6eeaba34",
   "metadata": {},
   "outputs": [],
   "source": [
    "table_list = [\n",
    "    [item.strip() for item in line.split('|') if item]  # maintain the number of columns in rows.\n",
    "    for line in file_contents.strip().split('\\n')\n",
    "    if '+-' not in line  # discard +-\n",
    "]\n",
    "\n",
    "df = pd.DataFrame(table_list, columns = ['Rank', 'Drug Name', 'Target Name', 'Binding Score'])\n",
    "df = df.iloc[1: , :]\n",
    "df['Binding Score'] = df['Binding Score'].astype(float)"
   ]
  },
  {
   "cell_type": "code",
   "execution_count": 24,
   "id": "298af284",
   "metadata": {},
   "outputs": [],
   "source": [
    "df_top_1000 = df.nlargest(1000,'Binding Score')"
   ]
  },
  {
   "cell_type": "code",
   "execution_count": 27,
   "id": "41ab628a",
   "metadata": {},
   "outputs": [],
   "source": [
    "df_top_1000.to_csv('df_top_1000.csv')"
   ]
  },
  {
   "cell_type": "code",
   "execution_count": 25,
   "id": "ac2f9665",
   "metadata": {},
   "outputs": [],
   "source": [
    "df_counts = df_top_1000['Target Name'].value_counts()"
   ]
  },
  {
   "cell_type": "code",
   "execution_count": 28,
   "id": "eb7513e4",
   "metadata": {},
   "outputs": [
    {
     "data": {
      "text/plain": [
       "P20309    8\n",
       "P25100    8\n",
       "P08912    8\n",
       "P35372    8\n",
       "P21554    8\n",
       "P41143    8\n",
       "P21917    8\n",
       "Q16790    8\n",
       "P28221    8\n",
       "O43603    8\n",
       "P35367    8\n",
       "Q9Y5N1    8\n",
       "Q08345    8\n",
       "P29275    8\n",
       "P30989    7\n",
       "P30559    7\n",
       "P41146    7\n",
       "P08173    7\n",
       "Q9Y5Y4    7\n",
       "Q04609    7\n",
       "Name: Target Name, dtype: int64"
      ]
     },
     "execution_count": 28,
     "metadata": {},
     "output_type": "execute_result"
    }
   ],
   "source": [
    "df_counts.head(20)"
   ]
  },
  {
   "cell_type": "code",
   "execution_count": 30,
   "id": "c1194015",
   "metadata": {},
   "outputs": [
    {
     "data": {
      "text/plain": [
       "312"
      ]
     },
     "execution_count": 30,
     "metadata": {},
     "output_type": "execute_result"
    }
   ],
   "source": [
    "len(set(df_top_1000['Target Name'].tolist()))"
   ]
  },
  {
   "cell_type": "code",
   "execution_count": 39,
   "id": "510ee3ac",
   "metadata": {},
   "outputs": [],
   "source": [
    "trans_cnn_bdb = 'virtual_screening_Transformer_CNN_BindingDB'\n",
    "mpnn_cnn_davis = 'virtual_screening_MPNN_CNN_DAVIS'\n",
    "morgan_cnn_bdb_IC50 = 'virtual_screening_Morgan_CNN_BindingDB_IC50'\n",
    "morgan_cnn_bdb = 'virtual_screening_Morgan_CNN_BindingDB'\n",
    "cnn_cnn_bdb = 'virtual_screening_CNN_CNN_BindingDB_IC50'"
   ]
  },
  {
   "cell_type": "code",
   "execution_count": 43,
   "id": "819e5814",
   "metadata": {},
   "outputs": [],
   "source": [
    "def results_reader(result_set):\n",
    "    f = open(result_set+'.txt', 'r')\n",
    "    file_contents = f.read()\n",
    "\n",
    "    table_list = [\n",
    "    [item.strip() for item in line.split('|') if item]  # maintain the number of columns in rows.\n",
    "    \n",
    "    for line in file_contents.strip().split('\\n')\n",
    "    if '+-' not in line  # discard +-\n",
    "    ]\n",
    "        \n",
    "    df = pd.DataFrame(table_list, columns = ['Rank', 'Drug Name', 'Target Name', 'Binding Score'])\n",
    "    df = df.iloc[1: , :]\n",
    "    df['Binding Score'] = df['Binding Score'].astype(float)\n",
    "    \n",
    "    df_top_1000 = df.nlargest(1000,'Binding Score')\n",
    "    \n",
    "    #df_top_1000.to_csv('df_top_1000_'+result_set+'.csv')\n",
    "    \n",
    "    return df_top_1000"
   ]
  },
  {
   "cell_type": "code",
   "execution_count": null,
   "id": "320eb5cc",
   "metadata": {},
   "outputs": [],
   "source": []
  },
  {
   "cell_type": "code",
   "execution_count": 41,
   "id": "6916081e",
   "metadata": {},
   "outputs": [],
   "source": [
    "df_virtual_screen_1 = results_reader(trans_cnn_bdb)\n",
    "df_virtual_screen_2 = results_reader(mpnn_cnn_davis)\n",
    "df_virtual_screen_3 = results_reader(morgan_cnn_bdb_IC50)\n",
    "df_virtual_screen_4 = results_reader(morgan_cnn_bdb)\n",
    "df_virtual_screen_5 = results_reader(cnn_cnn_bdb)"
   ]
  },
  {
   "cell_type": "code",
   "execution_count": 42,
   "id": "13c489bd",
   "metadata": {},
   "outputs": [],
   "source": [
    "virtual_screen_5000 = pd.concat([df_virtual_screen_1, \n",
    "                                 df_virtual_screen_2, \n",
    "                                 df_virtual_screen_3, \n",
    "                                 df_virtual_screen_4, \n",
    "                                 df_virtual_screen_5,], axis=0)"
   ]
  },
  {
   "cell_type": "code",
   "execution_count": 44,
   "id": "e1eec479",
   "metadata": {},
   "outputs": [
    {
     "data": {
      "text/html": [
       "<div>\n",
       "<style scoped>\n",
       "    .dataframe tbody tr th:only-of-type {\n",
       "        vertical-align: middle;\n",
       "    }\n",
       "\n",
       "    .dataframe tbody tr th {\n",
       "        vertical-align: top;\n",
       "    }\n",
       "\n",
       "    .dataframe thead th {\n",
       "        text-align: right;\n",
       "    }\n",
       "</style>\n",
       "<table border=\"1\" class=\"dataframe\">\n",
       "  <thead>\n",
       "    <tr style=\"text-align: right;\">\n",
       "      <th></th>\n",
       "      <th>Rank</th>\n",
       "      <th>Drug Name</th>\n",
       "      <th>Target Name</th>\n",
       "      <th>Binding Score</th>\n",
       "    </tr>\n",
       "  </thead>\n",
       "  <tbody>\n",
       "    <tr>\n",
       "      <th>1</th>\n",
       "      <td>1</td>\n",
       "      <td>Cannflavin C</td>\n",
       "      <td>P20309</td>\n",
       "      <td>9.46</td>\n",
       "    </tr>\n",
       "    <tr>\n",
       "      <th>2</th>\n",
       "      <td>2</td>\n",
       "      <td>Cannflavin C</td>\n",
       "      <td>P35372</td>\n",
       "      <td>9.38</td>\n",
       "    </tr>\n",
       "    <tr>\n",
       "      <th>3</th>\n",
       "      <td>3</td>\n",
       "      <td>Quercetin</td>\n",
       "      <td>P20309</td>\n",
       "      <td>9.31</td>\n",
       "    </tr>\n",
       "    <tr>\n",
       "      <th>4</th>\n",
       "      <td>4</td>\n",
       "      <td>Luteolin</td>\n",
       "      <td>P20309</td>\n",
       "      <td>9.25</td>\n",
       "    </tr>\n",
       "    <tr>\n",
       "      <th>5</th>\n",
       "      <td>5</td>\n",
       "      <td>Cannflavin C</td>\n",
       "      <td>O94804</td>\n",
       "      <td>9.21</td>\n",
       "    </tr>\n",
       "    <tr>\n",
       "      <th>...</th>\n",
       "      <td>...</td>\n",
       "      <td>...</td>\n",
       "      <td>...</td>\n",
       "      <td>...</td>\n",
       "    </tr>\n",
       "    <tr>\n",
       "      <th>996</th>\n",
       "      <td>996</td>\n",
       "      <td>Cannflavin C</td>\n",
       "      <td>P13612</td>\n",
       "      <td>6.85</td>\n",
       "    </tr>\n",
       "    <tr>\n",
       "      <th>997</th>\n",
       "      <td>997</td>\n",
       "      <td>Cannflavin B</td>\n",
       "      <td>Q8NH73</td>\n",
       "      <td>6.85</td>\n",
       "    </tr>\n",
       "    <tr>\n",
       "      <th>998</th>\n",
       "      <td>998</td>\n",
       "      <td>Cannflavin C</td>\n",
       "      <td>P07949</td>\n",
       "      <td>6.85</td>\n",
       "    </tr>\n",
       "    <tr>\n",
       "      <th>999</th>\n",
       "      <td>999</td>\n",
       "      <td>Cannflavin A</td>\n",
       "      <td>Q6ZUK4</td>\n",
       "      <td>6.85</td>\n",
       "    </tr>\n",
       "    <tr>\n",
       "      <th>1000</th>\n",
       "      <td>1000</td>\n",
       "      <td>6-prenylnaringenin</td>\n",
       "      <td>Q96IY4</td>\n",
       "      <td>6.85</td>\n",
       "    </tr>\n",
       "  </tbody>\n",
       "</table>\n",
       "<p>5000 rows × 4 columns</p>\n",
       "</div>"
      ],
      "text/plain": [
       "      Rank           Drug Name Target Name  Binding Score\n",
       "1        1        Cannflavin C      P20309           9.46\n",
       "2        2        Cannflavin C      P35372           9.38\n",
       "3        3           Quercetin      P20309           9.31\n",
       "4        4            Luteolin      P20309           9.25\n",
       "5        5        Cannflavin C      O94804           9.21\n",
       "...    ...                 ...         ...            ...\n",
       "996    996        Cannflavin C      P13612           6.85\n",
       "997    997        Cannflavin B      Q8NH73           6.85\n",
       "998    998        Cannflavin C      P07949           6.85\n",
       "999    999        Cannflavin A      Q6ZUK4           6.85\n",
       "1000  1000  6-prenylnaringenin      Q96IY4           6.85\n",
       "\n",
       "[5000 rows x 4 columns]"
      ]
     },
     "execution_count": 44,
     "metadata": {},
     "output_type": "execute_result"
    }
   ],
   "source": [
    "virtual_screen_5000"
   ]
  },
  {
   "cell_type": "code",
   "execution_count": 45,
   "id": "5e0aaab5",
   "metadata": {},
   "outputs": [
    {
     "data": {
      "text/plain": [
       "Drug Name           Target Name\n",
       "6-prenylnaringenin  P0DMS8         3\n",
       "                    P25103         3\n",
       "                    P30989         3\n",
       "                    Q2M2I8         3\n",
       "                    Q9Y5N1         3\n",
       "                                  ..\n",
       "Quercetin           Q9Y2U5         1\n",
       "                    Q9Y463         1\n",
       "                    Q9Y4K4         1\n",
       "                    Q9Y5X5         1\n",
       "                    Q9Y5X9         1\n",
       "Name: Target Name, Length: 4478, dtype: int64"
      ]
     },
     "execution_count": 45,
     "metadata": {},
     "output_type": "execute_result"
    }
   ],
   "source": [
    "virtual_screen_5000.groupby('Drug Name')['Target Name'].value_counts()"
   ]
  }
 ],
 "metadata": {
  "kernelspec": {
   "display_name": "Python 3 (ipykernel)",
   "language": "python",
   "name": "python3"
  },
  "language_info": {
   "codemirror_mode": {
    "name": "ipython",
    "version": 3
   },
   "file_extension": ".py",
   "mimetype": "text/x-python",
   "name": "python",
   "nbconvert_exporter": "python",
   "pygments_lexer": "ipython3",
   "version": "3.10.4"
  }
 },
 "nbformat": 4,
 "nbformat_minor": 5
}
