{
 "cells": [
  {
   "cell_type": "code",
   "execution_count": 52,
   "id": "4f020c7d",
   "metadata": {},
   "outputs": [],
   "source": [
    "import pandas as pd\n",
    "from Bio.SeqIO.FastaIO import SimpleFastaParser\n",
    "\n",
    "fasta = open(\"human_proteome.fasta\")\n",
    "df_drugs = pd.read_csv('cann_mols.csv')  \n",
    "\n",
    "fasta_list = list(SimpleFastaParser(fasta))\n",
    "\n",
    "protein_df = pd.DataFrame(fasta_list, columns=['info', 'sequence'])\n",
    "\n",
    "def string_splitter(string):\n",
    "    string = string.split(\"HUMAN\",1)[1]\n",
    "    string = string.split(\"OS=Homo sapiens\")\n",
    "    \n",
    "    return string\n",
    "\n",
    "def info_parser(dfx):\n",
    "    df = dfx.copy()\n",
    "    df = df['info'].str.split('|', expand=True) # split on the \"|\" character\n",
    "    df.columns = ['type', 'id', 'info'] # rename the three columns\n",
    "\n",
    "    return df\n",
    "\n",
    "def info_pre_processed(dfx):\n",
    "    df = dfx.copy() # create a copy of df\n",
    "    list_of_info = list(dfx['info']) # convert column values to list\n",
    "    list_of_info = [string_splitter(x) for x in list_of_info] # apply string_splitter function to list elements\n",
    "    df['temp_col'] = list_of_info # create a temporary column from the processed list\n",
    "    df.drop(\"info\", axis=1, inplace=True) # drop info column\n",
    "    split_df = pd.DataFrame(df['temp_col'].tolist(), columns=['Protein name', 'info']) # creating this dataframe to merge back onto processed dataframe\n",
    "    df.drop(\"temp_col\", axis=1, inplace=True) # dropping temp_col\n",
    "    df = pd.concat([df, split_df], axis=1) # merging both dataframes\n",
    "\n",
    "    return df\n",
    "    \n",
    "def info_processed(dfx):\n",
    "    df = dfx.copy() # create a copy of the dataframe\n",
    "    split_df = df['info'].str.split(' ', expand=True) # creating a seperate dataframe to merge with\n",
    "    df = pd.concat([df, split_df], axis=1) # merge dataframes\n",
    "    df.drop(\"info\", axis=1, inplace=True) # drop info column\n",
    "    df.columns = ['type', 'id', 'Protein name', 'drop', 'Species', 'Gene', 'PE', 'Mutation'] # rename columns\n",
    "    df.drop(\"drop\", axis=1, inplace=True) # drop empty column\n",
    "    df = pd.concat([df, protein_df], axis=1) # merge dataframes\n",
    "    df.drop(\"info\", axis=1, inplace=True) # drop info column\n",
    "    df.drop('Species', axis=1, inplace=True) # drop column\n",
    "    df['Gene'] = df['Gene'].str[3:] # strip first 3 characters\n",
    "    \n",
    "    return df\n",
    "\n",
    "clean_proteins =(protein_df.\n",
    "                 pipe(info_parser).\n",
    "                 pipe(info_pre_processed).\n",
    "                 pipe(info_processed))\n",
    "\n",
    "df_targets = clean_proteins[['Protein name','sequence']].copy() # making a copy of the clean dataframe.\n",
    "\n",
    "df_targets['drug_name'] = df_drugs['Name'][0] # adding a column with a constant value of \"cannaflavin a\".\n",
    "df_targets['SMILES'] = df_drugs['SMILES'][0] # adding a column with a constant value of \"cannaflavin a\" SMILES string.\n",
    "\n",
    "target_name = df_targets['Protein name'].tolist()\n",
    "target = df_targets.sequence.tolist()\n",
    "drug_name = df_targets.drug_name.tolist()\n",
    "drug = df_targets.SMILES.tolist()\n",
    "\n",
    "df_targets.to_csv('proteome_clean.csv') # save dataframe as csv"
   ]
  },
  {
   "cell_type": "code",
   "execution_count": 2,
   "id": "8808fffe",
   "metadata": {},
   "outputs": [],
   "source": [
    "f = open('virtual_screening_Transformer_CNN_BindingDB.txt', 'r')\n",
    "file_contents = f.read()"
   ]
  },
  {
   "cell_type": "code",
   "execution_count": 9,
   "id": "6eeaba34",
   "metadata": {},
   "outputs": [],
   "source": [
    "table_list = [\n",
    "    [item.strip() for item in line.split('|') if item]  # maintain the number of columns in rows.\n",
    "    for line in file_contents.strip().split('\\n')\n",
    "    if '+-' not in line  # discard +-\n",
    "]\n",
    "\n",
    "df = pd.DataFrame(table_list, columns = ['Rank', 'Drug Name', 'Target Name', 'Binding Score'])\n",
    "df = df.iloc[1: , :]\n",
    "df['Binding Score'] = df['Binding Score'].astype(float)"
   ]
  },
  {
   "cell_type": "code",
   "execution_count": 24,
   "id": "298af284",
   "metadata": {},
   "outputs": [],
   "source": [
    "df_top_1000 = df.nlargest(1000,'Binding Score')"
   ]
  },
  {
   "cell_type": "code",
   "execution_count": 27,
   "id": "41ab628a",
   "metadata": {},
   "outputs": [],
   "source": [
    "df_top_1000.to_csv('df_top_1000.csv')"
   ]
  },
  {
   "cell_type": "code",
   "execution_count": 25,
   "id": "ac2f9665",
   "metadata": {},
   "outputs": [],
   "source": [
    "df_counts = df_top_1000['Target Name'].value_counts()"
   ]
  },
  {
   "cell_type": "code",
   "execution_count": 28,
   "id": "eb7513e4",
   "metadata": {},
   "outputs": [
    {
     "data": {
      "text/plain": [
       "P20309    8\n",
       "P25100    8\n",
       "P08912    8\n",
       "P35372    8\n",
       "P21554    8\n",
       "P41143    8\n",
       "P21917    8\n",
       "Q16790    8\n",
       "P28221    8\n",
       "O43603    8\n",
       "P35367    8\n",
       "Q9Y5N1    8\n",
       "Q08345    8\n",
       "P29275    8\n",
       "P30989    7\n",
       "P30559    7\n",
       "P41146    7\n",
       "P08173    7\n",
       "Q9Y5Y4    7\n",
       "Q04609    7\n",
       "Name: Target Name, dtype: int64"
      ]
     },
     "execution_count": 28,
     "metadata": {},
     "output_type": "execute_result"
    }
   ],
   "source": [
    "df_counts.head(20)"
   ]
  },
  {
   "cell_type": "code",
   "execution_count": 30,
   "id": "c1194015",
   "metadata": {},
   "outputs": [
    {
     "data": {
      "text/plain": [
       "312"
      ]
     },
     "execution_count": 30,
     "metadata": {},
     "output_type": "execute_result"
    }
   ],
   "source": [
    "len(set(df_top_1000['Target Name'].tolist()))"
   ]
  },
  {
   "cell_type": "code",
   "execution_count": 53,
   "id": "510ee3ac",
   "metadata": {},
   "outputs": [],
   "source": [
    "trans_cnn_bdb = 'virtual_screening_Transformer_CNN_BindingDB'\n",
    "mpnn_cnn_davis = 'virtual_screening_MPNN_CNN_DAVIS'\n",
    "morgan_cnn_bdb_IC50 = 'virtual_screening_Morgan_CNN_BindingDB_IC50'\n",
    "morgan_cnn_bdb = 'virtual_screening_Morgan_CNN_BindingDB'\n",
    "cnn_cnn_bdb = 'virtual_screening_CNN_CNN_BindingDB_IC50'"
   ]
  },
  {
   "cell_type": "code",
   "execution_count": 77,
   "id": "819e5814",
   "metadata": {},
   "outputs": [],
   "source": [
    "def results_reader(result_set):\n",
    "    f = open(result_set+'.txt', 'r')\n",
    "    file_contents = f.read()\n",
    "\n",
    "    table_list = [\n",
    "    [item.strip() for item in line.split('|') if item]  # maintain the number of columns in rows.\n",
    "    \n",
    "    for line in file_contents.strip().split('\\n')\n",
    "    if '+-' not in line  # discard +-\n",
    "    ]\n",
    "        \n",
    "    df = pd.DataFrame(table_list, columns = ['Rank', 'Drug Name', 'Target Name', 'Binding Score'])\n",
    "    df = df.iloc[1: , :]\n",
    "    df['Binding Score'] = df['Binding Score'].astype(float)\n",
    "    \n",
    "    df_top_20k = df.nlargest(20000,'Binding Score')\n",
    "    \n",
    "    #df_top_1000.to_csv('df_top_1000_'+result_set+'.csv')\n",
    "    \n",
    "    return df_top_20k"
   ]
  },
  {
   "cell_type": "code",
   "execution_count": null,
   "id": "320eb5cc",
   "metadata": {},
   "outputs": [],
   "source": []
  },
  {
   "cell_type": "code",
   "execution_count": 78,
   "id": "6916081e",
   "metadata": {},
   "outputs": [],
   "source": [
    "df_virtual_screen_1 = results_reader(trans_cnn_bdb)\n",
    "df_virtual_screen_2 = results_reader(mpnn_cnn_davis)\n",
    "df_virtual_screen_3 = results_reader(morgan_cnn_bdb_IC50)\n",
    "df_virtual_screen_4 = results_reader(morgan_cnn_bdb)\n",
    "df_virtual_screen_5 = results_reader(cnn_cnn_bdb)"
   ]
  },
  {
   "cell_type": "code",
   "execution_count": 69,
   "id": "13c489bd",
   "metadata": {},
   "outputs": [],
   "source": [
    "virtual_screen_5000 = pd.concat([df_virtual_screen_1, \n",
    "                                 df_virtual_screen_2, \n",
    "                                 df_virtual_screen_3, \n",
    "                                 df_virtual_screen_4, \n",
    "                                 df_virtual_screen_5,], axis=0)"
   ]
  },
  {
   "cell_type": "code",
   "execution_count": 79,
   "id": "4fea4191",
   "metadata": {},
   "outputs": [],
   "source": [
    "virtual_screen_100k = pd.concat([df_virtual_screen_1, \n",
    "                                   df_virtual_screen_2, \n",
    "                                   df_virtual_screen_3, \n",
    "                                   df_virtual_screen_4, \n",
    "                                   df_virtual_screen_5,], axis=0)"
   ]
  },
  {
   "cell_type": "code",
   "execution_count": 65,
   "id": "e1eec479",
   "metadata": {},
   "outputs": [
    {
     "data": {
      "text/html": [
       "<div>\n",
       "<style scoped>\n",
       "    .dataframe tbody tr th:only-of-type {\n",
       "        vertical-align: middle;\n",
       "    }\n",
       "\n",
       "    .dataframe tbody tr th {\n",
       "        vertical-align: top;\n",
       "    }\n",
       "\n",
       "    .dataframe thead th {\n",
       "        text-align: right;\n",
       "    }\n",
       "</style>\n",
       "<table border=\"1\" class=\"dataframe\">\n",
       "  <thead>\n",
       "    <tr style=\"text-align: right;\">\n",
       "      <th></th>\n",
       "      <th>Rank</th>\n",
       "      <th>Drug Name</th>\n",
       "      <th>Target Name</th>\n",
       "      <th>Binding Score</th>\n",
       "    </tr>\n",
       "  </thead>\n",
       "  <tbody>\n",
       "    <tr>\n",
       "      <th>1</th>\n",
       "      <td>1</td>\n",
       "      <td>Cannflavin C</td>\n",
       "      <td>P20309</td>\n",
       "      <td>9.46</td>\n",
       "    </tr>\n",
       "    <tr>\n",
       "      <th>2</th>\n",
       "      <td>2</td>\n",
       "      <td>Cannflavin C</td>\n",
       "      <td>P35372</td>\n",
       "      <td>9.38</td>\n",
       "    </tr>\n",
       "    <tr>\n",
       "      <th>3</th>\n",
       "      <td>3</td>\n",
       "      <td>Quercetin</td>\n",
       "      <td>P20309</td>\n",
       "      <td>9.31</td>\n",
       "    </tr>\n",
       "    <tr>\n",
       "      <th>4</th>\n",
       "      <td>4</td>\n",
       "      <td>Luteolin</td>\n",
       "      <td>P20309</td>\n",
       "      <td>9.25</td>\n",
       "    </tr>\n",
       "    <tr>\n",
       "      <th>5</th>\n",
       "      <td>5</td>\n",
       "      <td>Cannflavin C</td>\n",
       "      <td>O94804</td>\n",
       "      <td>9.21</td>\n",
       "    </tr>\n",
       "    <tr>\n",
       "      <th>...</th>\n",
       "      <td>...</td>\n",
       "      <td>...</td>\n",
       "      <td>...</td>\n",
       "      <td>...</td>\n",
       "    </tr>\n",
       "    <tr>\n",
       "      <th>9996</th>\n",
       "      <td>9996</td>\n",
       "      <td>Cannflavin B</td>\n",
       "      <td>P01861</td>\n",
       "      <td>6.37</td>\n",
       "    </tr>\n",
       "    <tr>\n",
       "      <th>9997</th>\n",
       "      <td>9997</td>\n",
       "      <td>Cannflavin C</td>\n",
       "      <td>Q8N9V3</td>\n",
       "      <td>6.37</td>\n",
       "    </tr>\n",
       "    <tr>\n",
       "      <th>9998</th>\n",
       "      <td>9998</td>\n",
       "      <td>Cannflavin A</td>\n",
       "      <td>Q9HD64</td>\n",
       "      <td>6.37</td>\n",
       "    </tr>\n",
       "    <tr>\n",
       "      <th>9999</th>\n",
       "      <td>9999</td>\n",
       "      <td>Cannflavin B</td>\n",
       "      <td>Q969S8</td>\n",
       "      <td>6.37</td>\n",
       "    </tr>\n",
       "    <tr>\n",
       "      <th>10000</th>\n",
       "      <td>10000</td>\n",
       "      <td>Cannflavin A</td>\n",
       "      <td>Q6L8Q7</td>\n",
       "      <td>6.37</td>\n",
       "    </tr>\n",
       "  </tbody>\n",
       "</table>\n",
       "<p>50000 rows × 4 columns</p>\n",
       "</div>"
      ],
      "text/plain": [
       "        Rank     Drug Name Target Name  Binding Score\n",
       "1          1  Cannflavin C      P20309           9.46\n",
       "2          2  Cannflavin C      P35372           9.38\n",
       "3          3     Quercetin      P20309           9.31\n",
       "4          4      Luteolin      P20309           9.25\n",
       "5          5  Cannflavin C      O94804           9.21\n",
       "...      ...           ...         ...            ...\n",
       "9996    9996  Cannflavin B      P01861           6.37\n",
       "9997    9997  Cannflavin C      Q8N9V3           6.37\n",
       "9998    9998  Cannflavin A      Q9HD64           6.37\n",
       "9999    9999  Cannflavin B      Q969S8           6.37\n",
       "10000  10000  Cannflavin A      Q6L8Q7           6.37\n",
       "\n",
       "[50000 rows x 4 columns]"
      ]
     },
     "execution_count": 65,
     "metadata": {},
     "output_type": "execute_result"
    }
   ],
   "source": [
    "virtual_screen_5000"
   ]
  },
  {
   "cell_type": "code",
   "execution_count": 98,
   "id": "bb223654",
   "metadata": {},
   "outputs": [],
   "source": [
    "def protein_filter(df):\n",
    "    hesper_df = df[df['Drug Name'] == 'Hesperetin']\n",
    "    cann_a_df = df[df['Drug Name'] == 'Cannflavin A']\n",
    "    cann_b_df = df[df['Drug Name'] == 'Cannflavin B']\n",
    "    cann_c_df = df[df['Drug Name'] == 'Cannflavin C']\n",
    "    Cannip_df = df[df['Drug Name'] == 'Canniprene']\n",
    "    Querce_df = df[df['Drug Name'] == 'Quercetin']\n",
    "    Luteol_df = df[df['Drug Name'] == 'Luteolin']\n",
    "    prenyl_df = df[df['Drug Name'] == '6-prenylnaringenin']\n",
    "    Cannab_df = df[df['Drug Name'] == 'Cannabistilbene I']\n",
    "    \n",
    "    hesper_counts = (hesper_df['Target Name'].value_counts()).head(20).to_frame()\n",
    "    cann_a_counts = (cann_a_df['Target Name'].value_counts()).head(20).to_frame()\n",
    "    cann_b_counts = (cann_b_df['Target Name'].value_counts()).head(20).to_frame()\n",
    "    cann_c_counts = (cann_c_df['Target Name'].value_counts()).head(20).to_frame()\n",
    "    Cannip_counts = (Cannip_df['Target Name'].value_counts()).head(20).to_frame()\n",
    "    Querce_counts = (Querce_df['Target Name'].value_counts()).head(20).to_frame()\n",
    "    Luteol_counts = (Luteol_df['Target Name'].value_counts()).head(20).to_frame()\n",
    "    prenyl_counts = (prenyl_df['Target Name'].value_counts()).head(20).to_frame()\n",
    "    Cannab_counts = (Cannab_df['Target Name'].value_counts()).head(20).to_frame()\n",
    "    #hesper_counts = hesper_counts.head(20).to_frame()\n",
    "    #hesper_counts_final = pd.DataFrame(hesper_counts, columns=['Protein', 'Count'])\n",
    "    proteins_180 = pd.concat([hesper_counts,\n",
    "                              cann_a_counts,\n",
    "                              cann_b_counts,\n",
    "                              cann_c_counts,\n",
    "                              Cannip_counts,\n",
    "                              Querce_counts,\n",
    "                              Luteol_counts,\n",
    "                              prenyl_counts,\n",
    "                              Cannab_counts\n",
    "                             ], axis=0) # merging both dataframes\n",
    "    return proteins_180"
   ]
  },
  {
   "cell_type": "code",
   "execution_count": 112,
   "id": "707a365a",
   "metadata": {},
   "outputs": [],
   "source": [
    "test = protein_filter(virtual_screen_100k)"
   ]
  },
  {
   "cell_type": "code",
   "execution_count": 113,
   "id": "c50f9327",
   "metadata": {},
   "outputs": [],
   "source": [
    "test = test.reset_index()"
   ]
  },
  {
   "cell_type": "code",
   "execution_count": 116,
   "id": "55d86456",
   "metadata": {},
   "outputs": [],
   "source": [
    "test.rename(columns = {'index':'Protein', 'Target Name':'Count'}, inplace = True)"
   ]
  },
  {
   "cell_type": "code",
   "execution_count": 118,
   "id": "574dfdf4",
   "metadata": {},
   "outputs": [
    {
     "data": {
      "text/plain": [
       "101"
      ]
     },
     "execution_count": 118,
     "metadata": {},
     "output_type": "execute_result"
    }
   ],
   "source": [
    "len(set(test.Protein.tolist()))"
   ]
  },
  {
   "cell_type": "code",
   "execution_count": 119,
   "id": "f81065f2",
   "metadata": {},
   "outputs": [
    {
     "data": {
      "text/plain": [
       "P25103    7\n",
       "Q13639    7\n",
       "Q16790    6\n",
       "Q9Y5N1    6\n",
       "P0DMS8    6\n",
       "         ..\n",
       "Q16620    1\n",
       "P09874    1\n",
       "P35462    1\n",
       "Q17RY6    1\n",
       "P49286    1\n",
       "Name: Protein, Length: 101, dtype: int64"
      ]
     },
     "execution_count": 119,
     "metadata": {},
     "output_type": "execute_result"
    }
   ],
   "source": [
    "test.Protein.value_counts()"
   ]
  },
  {
   "cell_type": "code",
   "execution_count": 59,
   "id": "5e0aaab5",
   "metadata": {},
   "outputs": [
    {
     "data": {
      "text/plain": [
       "Target Name  Drug Name   \n",
       "A0A024RCN7   Cannflavin C    1\n",
       "A0A075B6I1   Cannflavin C    1\n",
       "A0A075B6K5   Cannflavin C    1\n",
       "A0A075B6Q5   Cannflavin A    1\n",
       "A0A075B6S6   Canniprene      1\n",
       "                            ..\n",
       "Q9Y6F6       Cannflavin C    1\n",
       "             Canniprene      1\n",
       "Q9Y6K8       Hesperetin      1\n",
       "Q9Y6N6       Hesperetin      1\n",
       "Q9Y6Q5       Hesperetin      1\n",
       "Name: Drug Name, Length: 4478, dtype: int64"
      ]
     },
     "execution_count": 59,
     "metadata": {},
     "output_type": "execute_result"
    }
   ],
   "source": [
    "virtual_screen_5000.groupby('Target Name')['Drug Name'].value_counts()"
   ]
  },
  {
   "cell_type": "code",
   "execution_count": 60,
   "id": "9df9c00e",
   "metadata": {},
   "outputs": [],
   "source": [
    "counts = virtual_screen_5000['Drug Name'].value_counts()"
   ]
  },
  {
   "cell_type": "code",
   "execution_count": 70,
   "id": "1dbaa00c",
   "metadata": {},
   "outputs": [
    {
     "data": {
      "text/plain": [
       "Hesperetin            22410\n",
       "Cannflavin C          16871\n",
       "Luteolin              16706\n",
       "Quercetin             15628\n",
       "Cannflavin A           9596\n",
       "6-prenylnaringenin     6656\n",
       "Cannflavin B           6524\n",
       "Canniprene             3297\n",
       "Cannabistilbene I      2312\n",
       "Name: Drug Name, dtype: int64"
      ]
     },
     "execution_count": 70,
     "metadata": {},
     "output_type": "execute_result"
    }
   ],
   "source": [
    "counts_100k = virtual_screen_5000['Drug Name'].value_counts()\n",
    "counts_100k"
   ]
  },
  {
   "cell_type": "code",
   "execution_count": 66,
   "id": "7bec646d",
   "metadata": {},
   "outputs": [
    {
     "data": {
      "text/plain": [
       "Hesperetin            10303\n",
       "Cannflavin C           8958\n",
       "Luteolin               8786\n",
       "Quercetin              7436\n",
       "Cannflavin A           4894\n",
       "6-prenylnaringenin     4836\n",
       "Cannflavin B           2789\n",
       "Canniprene             1174\n",
       "Cannabistilbene I       824\n",
       "Name: Drug Name, dtype: int64"
      ]
     },
     "execution_count": 66,
     "metadata": {},
     "output_type": "execute_result"
    }
   ],
   "source": [
    "counts_50k = virtual_screen_5000['Drug Name'].value_counts()\n",
    "counts_50k"
   ]
  },
  {
   "cell_type": "code",
   "execution_count": 61,
   "id": "78b36998",
   "metadata": {},
   "outputs": [
    {
     "data": {
      "text/plain": [
       "Cannflavin C          1170\n",
       "Hesperetin             985\n",
       "Luteolin               683\n",
       "Quercetin              630\n",
       "Cannflavin A           551\n",
       "Canniprene             517\n",
       "Cannflavin B           222\n",
       "6-prenylnaringenin     181\n",
       "Cannabistilbene I       61\n",
       "Name: Drug Name, dtype: int64"
      ]
     },
     "execution_count": 61,
     "metadata": {},
     "output_type": "execute_result"
    }
   ],
   "source": [
    "counts"
   ]
  },
  {
   "cell_type": "code",
   "execution_count": 72,
   "id": "af4fdc24",
   "metadata": {},
   "outputs": [
    {
     "data": {
      "text/html": [
       "<div>\n",
       "<style scoped>\n",
       "    .dataframe tbody tr th:only-of-type {\n",
       "        vertical-align: middle;\n",
       "    }\n",
       "\n",
       "    .dataframe tbody tr th {\n",
       "        vertical-align: top;\n",
       "    }\n",
       "\n",
       "    .dataframe thead th {\n",
       "        text-align: right;\n",
       "    }\n",
       "</style>\n",
       "<table border=\"1\" class=\"dataframe\">\n",
       "  <thead>\n",
       "    <tr style=\"text-align: right;\">\n",
       "      <th></th>\n",
       "      <th>Rank</th>\n",
       "      <th>Drug Name</th>\n",
       "      <th>Target Name</th>\n",
       "      <th>Binding Score</th>\n",
       "    </tr>\n",
       "  </thead>\n",
       "  <tbody>\n",
       "    <tr>\n",
       "      <th>13</th>\n",
       "      <td>13</td>\n",
       "      <td>Hesperetin</td>\n",
       "      <td>P35372</td>\n",
       "      <td>9.06</td>\n",
       "    </tr>\n",
       "    <tr>\n",
       "      <th>18</th>\n",
       "      <td>18</td>\n",
       "      <td>Hesperetin</td>\n",
       "      <td>P20309</td>\n",
       "      <td>8.99</td>\n",
       "    </tr>\n",
       "    <tr>\n",
       "      <th>27</th>\n",
       "      <td>27</td>\n",
       "      <td>Hesperetin</td>\n",
       "      <td>Q9Y5N1</td>\n",
       "      <td>8.89</td>\n",
       "    </tr>\n",
       "    <tr>\n",
       "      <th>42</th>\n",
       "      <td>42</td>\n",
       "      <td>Hesperetin</td>\n",
       "      <td>P41143</td>\n",
       "      <td>8.80</td>\n",
       "    </tr>\n",
       "    <tr>\n",
       "      <th>45</th>\n",
       "      <td>45</td>\n",
       "      <td>Hesperetin</td>\n",
       "      <td>P28221</td>\n",
       "      <td>8.79</td>\n",
       "    </tr>\n",
       "    <tr>\n",
       "      <th>...</th>\n",
       "      <td>...</td>\n",
       "      <td>...</td>\n",
       "      <td>...</td>\n",
       "      <td>...</td>\n",
       "    </tr>\n",
       "    <tr>\n",
       "      <th>19318</th>\n",
       "      <td>19318</td>\n",
       "      <td>Hesperetin</td>\n",
       "      <td>P31213</td>\n",
       "      <td>6.15</td>\n",
       "    </tr>\n",
       "    <tr>\n",
       "      <th>19375</th>\n",
       "      <td>19375</td>\n",
       "      <td>Hesperetin</td>\n",
       "      <td>P61204</td>\n",
       "      <td>6.15</td>\n",
       "    </tr>\n",
       "    <tr>\n",
       "      <th>19504</th>\n",
       "      <td>19504</td>\n",
       "      <td>Hesperetin</td>\n",
       "      <td>P00918</td>\n",
       "      <td>6.14</td>\n",
       "    </tr>\n",
       "    <tr>\n",
       "      <th>19651</th>\n",
       "      <td>19651</td>\n",
       "      <td>Hesperetin</td>\n",
       "      <td>P00491</td>\n",
       "      <td>6.14</td>\n",
       "    </tr>\n",
       "    <tr>\n",
       "      <th>19827</th>\n",
       "      <td>19827</td>\n",
       "      <td>Hesperetin</td>\n",
       "      <td>Q9Y5Y3</td>\n",
       "      <td>6.14</td>\n",
       "    </tr>\n",
       "  </tbody>\n",
       "</table>\n",
       "<p>22410 rows × 4 columns</p>\n",
       "</div>"
      ],
      "text/plain": [
       "        Rank   Drug Name Target Name  Binding Score\n",
       "13        13  Hesperetin      P35372           9.06\n",
       "18        18  Hesperetin      P20309           8.99\n",
       "27        27  Hesperetin      Q9Y5N1           8.89\n",
       "42        42  Hesperetin      P41143           8.80\n",
       "45        45  Hesperetin      P28221           8.79\n",
       "...      ...         ...         ...            ...\n",
       "19318  19318  Hesperetin      P31213           6.15\n",
       "19375  19375  Hesperetin      P61204           6.15\n",
       "19504  19504  Hesperetin      P00918           6.14\n",
       "19651  19651  Hesperetin      P00491           6.14\n",
       "19827  19827  Hesperetin      Q9Y5Y3           6.14\n",
       "\n",
       "[22410 rows x 4 columns]"
      ]
     },
     "execution_count": 72,
     "metadata": {},
     "output_type": "execute_result"
    }
   ],
   "source": [
    "hesp_df = virtual_screen_5000[virtual_screen_5000['Drug Name'] == 'Hesperetin']\n",
    "hesp_df"
   ]
  },
  {
   "cell_type": "code",
   "execution_count": 73,
   "id": "5c9fe802",
   "metadata": {},
   "outputs": [],
   "source": [
    "hesp_counts = hesp_df['Target Name'].value_counts()"
   ]
  },
  {
   "cell_type": "code",
   "execution_count": 76,
   "id": "28dcc01b",
   "metadata": {},
   "outputs": [
    {
     "data": {
      "text/plain": [
       "P21453    5\n",
       "P08908    5\n",
       "O43614    5\n",
       "O43193    4\n",
       "Q92847    4\n",
       "Q99572    4\n",
       "P46089    4\n",
       "P25103    4\n",
       "P23975    4\n",
       "Q15761    4\n",
       "Q13639    4\n",
       "P32238    4\n",
       "Q6W5P4    4\n",
       "P21452    4\n",
       "Q01959    4\n",
       "P26678    4\n",
       "Q99720    4\n",
       "P34998    4\n",
       "P0DMS8    4\n",
       "Q13093    4\n",
       "Name: Target Name, dtype: int64"
      ]
     },
     "execution_count": 76,
     "metadata": {},
     "output_type": "execute_result"
    }
   ],
   "source": [
    "hesp_counts.head(20)"
   ]
  },
  {
   "cell_type": "code",
   "execution_count": 126,
   "id": "bd23f4c9",
   "metadata": {},
   "outputs": [
    {
     "ename": "NameError",
     "evalue": "name 'i' is not defined",
     "output_type": "error",
     "traceback": [
      "\u001b[0;31m---------------------------------------------------------------------------\u001b[0m",
      "\u001b[0;31mNameError\u001b[0m                                 Traceback (most recent call last)",
      "Input \u001b[0;32mIn [126]\u001b[0m, in \u001b[0;36m<cell line: 13>\u001b[0;34m()\u001b[0m\n\u001b[1;32m     12\u001b[0m dfs \u001b[38;5;241m=\u001b[39m []\n\u001b[1;32m     13\u001b[0m \u001b[38;5;28;01mfor\u001b[39;00m sheet_name \u001b[38;5;129;01min\u001b[39;00m sheets_names: \n\u001b[0;32m---> 14\u001b[0m     df[\u001b[43mi\u001b[49m] \u001b[38;5;241m=\u001b[39m pd\u001b[38;5;241m.\u001b[39mread_excel(xls, sheet_name)\n",
      "\u001b[0;31mNameError\u001b[0m: name 'i' is not defined"
     ]
    }
   ],
   "source": [
    "import openpyxl\n",
    "\n",
    "xls = pd.ExcelFile('uniprot_diseases_biomarkers.xlsx') \n",
    "sheets_names = ['Inflammation', \n",
    "                'Autoinflammation', \n",
    "                'Chronic Inflammation', \n",
    "                'Rheumatoid Arthritis', \n",
    "                'IBD', \n",
    "                'Cardiovascular', \n",
    "                'Influenza', \n",
    "                'COVID-19']\n",
    "dfs = []\n",
    "for sheet_name in sheets_names: \n",
    "    df[i] = pd.read_excel(xls, sheet_name)"
   ]
  },
  {
   "cell_type": "code",
   "execution_count": 128,
   "id": "fad58d1f",
   "metadata": {},
   "outputs": [],
   "source": [
    "import pandas as pd\n",
    "xlsx = pd.read_excel('uniprot_diseases_biomarkers.xlsx', sheet_name=None, header=None)\n",
    "for sheet in xlsx.keys(): xlsx[sheet].to_excel(sheet+'.xlsx', header=False, index=False)"
   ]
  },
  {
   "cell_type": "code",
   "execution_count": 141,
   "id": "d5f28503",
   "metadata": {},
   "outputs": [],
   "source": [
    "df_inflammation = xlsx['Inflammation']"
   ]
  },
  {
   "cell_type": "code",
   "execution_count": 142,
   "id": "4b805b8d",
   "metadata": {},
   "outputs": [],
   "source": [
    "df_inflammation.columns = df_inflammation.iloc[0]\n",
    "df_inflammation = df_inflammation[1:]"
   ]
  },
  {
   "cell_type": "code",
   "execution_count": 143,
   "id": "3a104230",
   "metadata": {},
   "outputs": [
    {
     "data": {
      "text/html": [
       "<div>\n",
       "<style scoped>\n",
       "    .dataframe tbody tr th:only-of-type {\n",
       "        vertical-align: middle;\n",
       "    }\n",
       "\n",
       "    .dataframe tbody tr th {\n",
       "        vertical-align: top;\n",
       "    }\n",
       "\n",
       "    .dataframe thead th {\n",
       "        text-align: right;\n",
       "    }\n",
       "</style>\n",
       "<table border=\"1\" class=\"dataframe\">\n",
       "  <thead>\n",
       "    <tr style=\"text-align: right;\">\n",
       "      <th></th>\n",
       "      <th>Entry</th>\n",
       "      <th>Reviewed</th>\n",
       "      <th>Entry Name</th>\n",
       "      <th>Protein names</th>\n",
       "      <th>Gene Names</th>\n",
       "      <th>Interacts with</th>\n",
       "      <th>Gene Ontology (biological process)</th>\n",
       "      <th>Involvement in disease</th>\n",
       "    </tr>\n",
       "  </thead>\n",
       "  <tbody>\n",
       "    <tr>\n",
       "      <th>1</th>\n",
       "      <td>A1A4Y4</td>\n",
       "      <td>reviewed</td>\n",
       "      <td>IRGM_HUMAN</td>\n",
       "      <td>Immunity-related GTPase family M protein, EC 3...</td>\n",
       "      <td>IRGM IFI1 IRGM1 LRG47</td>\n",
       "      <td>Q96CV9</td>\n",
       "      <td>autophagosome assembly [GO:0000045]; CAMKK-AMP...</td>\n",
       "      <td>DISEASE: Inflammatory bowel disease 19 (IBD19)...</td>\n",
       "    </tr>\n",
       "    <tr>\n",
       "      <th>2</th>\n",
       "      <td>O00187</td>\n",
       "      <td>reviewed</td>\n",
       "      <td>MASP2_HUMAN</td>\n",
       "      <td>Mannan-binding lectin serine protease 2, EC 3....</td>\n",
       "      <td>MASP2</td>\n",
       "      <td>P11226; P05155; PRO_0000042699 [P0C0L5]; P4874...</td>\n",
       "      <td>cell surface pattern recognition receptor sign...</td>\n",
       "      <td>DISEASE: MASP2 deficiency (MASPD) [MIM:613791]...</td>\n",
       "    </tr>\n",
       "    <tr>\n",
       "      <th>3</th>\n",
       "      <td>O00329</td>\n",
       "      <td>reviewed</td>\n",
       "      <td>PK3CD_HUMAN</td>\n",
       "      <td>Phosphatidylinositol 4,5-bisphosphate 3-kinase...</td>\n",
       "      <td>PIK3CD</td>\n",
       "      <td>P01112; P27986; P27986-2; Q92569; P01112</td>\n",
       "      <td>adaptive immune response [GO:0002250]; B cell ...</td>\n",
       "      <td>DISEASE: Immunodeficiency 14A, autosomal domin...</td>\n",
       "    </tr>\n",
       "    <tr>\n",
       "      <th>4</th>\n",
       "      <td>O15143</td>\n",
       "      <td>reviewed</td>\n",
       "      <td>ARC1B_HUMAN</td>\n",
       "      <td>Actin-related protein 2/3 complex subunit 1B (...</td>\n",
       "      <td>ARPC1B ARC41</td>\n",
       "      <td>Q5ZTM4</td>\n",
       "      <td>Arp2/3 complex-mediated actin nucleation [GO:0...</td>\n",
       "      <td>DISEASE: Immunodeficiency 71 with inflammatory...</td>\n",
       "    </tr>\n",
       "    <tr>\n",
       "      <th>5</th>\n",
       "      <td>O15484</td>\n",
       "      <td>reviewed</td>\n",
       "      <td>CAN5_HUMAN</td>\n",
       "      <td>Calpain-5, EC 3.4.22.- (Calpain htra-3) (New c...</td>\n",
       "      <td>CAPN5 NCL3</td>\n",
       "      <td>NaN</td>\n",
       "      <td>proteolysis [GO:0006508]; signal transduction ...</td>\n",
       "      <td>DISEASE: Vitreoretinopathy, neovascular inflam...</td>\n",
       "    </tr>\n",
       "    <tr>\n",
       "      <th>...</th>\n",
       "      <td>...</td>\n",
       "      <td>...</td>\n",
       "      <td>...</td>\n",
       "      <td>...</td>\n",
       "      <td>...</td>\n",
       "      <td>...</td>\n",
       "      <td>...</td>\n",
       "      <td>...</td>\n",
       "    </tr>\n",
       "    <tr>\n",
       "      <th>126</th>\n",
       "      <td>Q9Y244</td>\n",
       "      <td>reviewed</td>\n",
       "      <td>POMP_HUMAN</td>\n",
       "      <td>Proteasome maturation protein (Proteassemblin)...</td>\n",
       "      <td>POMP C13orf12 UMP1 HSPC014 HSPC036 PNAS-110</td>\n",
       "      <td>Q15777; P20618; P49720; P28074; Q99436; P28065</td>\n",
       "      <td>proteasome assembly [GO:0043248]</td>\n",
       "      <td>DISEASE: Keratosis linearis with ichthyosis co...</td>\n",
       "    </tr>\n",
       "    <tr>\n",
       "      <th>127</th>\n",
       "      <td>Q9Y2G2</td>\n",
       "      <td>reviewed</td>\n",
       "      <td>CARD8_HUMAN</td>\n",
       "      <td>Caspase recruitment domain-containing protein ...</td>\n",
       "      <td>CARD8 DACAR KIAA0955 NDPP1</td>\n",
       "      <td>NaN</td>\n",
       "      <td>activation of cysteine-type endopeptidase acti...</td>\n",
       "      <td>DISEASE: Inflammatory bowel disease 30 (IBD30)...</td>\n",
       "    </tr>\n",
       "    <tr>\n",
       "      <th>128</th>\n",
       "      <td>Q9Y2R2</td>\n",
       "      <td>reviewed</td>\n",
       "      <td>PTN22_HUMAN</td>\n",
       "      <td>Tyrosine-protein phosphatase non-receptor type...</td>\n",
       "      <td>PTPN22 PTPN8</td>\n",
       "      <td>P20963; P00533; P62993; P06239; O43586; O75563...</td>\n",
       "      <td>autophagy [GO:0006914]; cellular response to m...</td>\n",
       "      <td>DISEASE: Systemic lupus erythematosus (SLE) [M...</td>\n",
       "    </tr>\n",
       "    <tr>\n",
       "      <th>129</th>\n",
       "      <td>Q9Y5S8</td>\n",
       "      <td>reviewed</td>\n",
       "      <td>NOX1_HUMAN</td>\n",
       "      <td>NADPH oxidase 1, NOX-1, EC 1.-.-.- (Mitogenic ...</td>\n",
       "      <td>NOX1 MOX1 NOH1</td>\n",
       "      <td>Q0VAB0</td>\n",
       "      <td>angiogenesis [GO:0001525]; cell migration [GO:...</td>\n",
       "      <td>DISEASE: Note=Defects in NOX1 may play a role ...</td>\n",
       "    </tr>\n",
       "    <tr>\n",
       "      <th>130</th>\n",
       "      <td>Q9Y6K9</td>\n",
       "      <td>reviewed</td>\n",
       "      <td>NEMO_HUMAN</td>\n",
       "      <td>NF-kappa-B essential modulator, NEMO (FIP-3) (...</td>\n",
       "      <td>IKBKG FIP3 NEMO</td>\n",
       "      <td>Q9NPF8; Q4VCS5; P04083; Q66PJ3; Q13315; Q13535...</td>\n",
       "      <td>anoikis [GO:0043276]; apoptotic process [GO:00...</td>\n",
       "      <td>DISEASE: Ectodermal dysplasia and immunodefici...</td>\n",
       "    </tr>\n",
       "  </tbody>\n",
       "</table>\n",
       "<p>130 rows × 8 columns</p>\n",
       "</div>"
      ],
      "text/plain": [
       "0     Entry  Reviewed   Entry Name  \\\n",
       "1    A1A4Y4  reviewed   IRGM_HUMAN   \n",
       "2    O00187  reviewed  MASP2_HUMAN   \n",
       "3    O00329  reviewed  PK3CD_HUMAN   \n",
       "4    O15143  reviewed  ARC1B_HUMAN   \n",
       "5    O15484  reviewed   CAN5_HUMAN   \n",
       "..      ...       ...          ...   \n",
       "126  Q9Y244  reviewed   POMP_HUMAN   \n",
       "127  Q9Y2G2  reviewed  CARD8_HUMAN   \n",
       "128  Q9Y2R2  reviewed  PTN22_HUMAN   \n",
       "129  Q9Y5S8  reviewed   NOX1_HUMAN   \n",
       "130  Q9Y6K9  reviewed   NEMO_HUMAN   \n",
       "\n",
       "0                                        Protein names  \\\n",
       "1    Immunity-related GTPase family M protein, EC 3...   \n",
       "2    Mannan-binding lectin serine protease 2, EC 3....   \n",
       "3    Phosphatidylinositol 4,5-bisphosphate 3-kinase...   \n",
       "4    Actin-related protein 2/3 complex subunit 1B (...   \n",
       "5    Calpain-5, EC 3.4.22.- (Calpain htra-3) (New c...   \n",
       "..                                                 ...   \n",
       "126  Proteasome maturation protein (Proteassemblin)...   \n",
       "127  Caspase recruitment domain-containing protein ...   \n",
       "128  Tyrosine-protein phosphatase non-receptor type...   \n",
       "129  NADPH oxidase 1, NOX-1, EC 1.-.-.- (Mitogenic ...   \n",
       "130  NF-kappa-B essential modulator, NEMO (FIP-3) (...   \n",
       "\n",
       "0                                     Gene Names  \\\n",
       "1                          IRGM IFI1 IRGM1 LRG47   \n",
       "2                                          MASP2   \n",
       "3                                         PIK3CD   \n",
       "4                                   ARPC1B ARC41   \n",
       "5                                     CAPN5 NCL3   \n",
       "..                                           ...   \n",
       "126  POMP C13orf12 UMP1 HSPC014 HSPC036 PNAS-110   \n",
       "127                   CARD8 DACAR KIAA0955 NDPP1   \n",
       "128                                 PTPN22 PTPN8   \n",
       "129                               NOX1 MOX1 NOH1   \n",
       "130                              IKBKG FIP3 NEMO   \n",
       "\n",
       "0                                       Interacts with  \\\n",
       "1                                               Q96CV9   \n",
       "2    P11226; P05155; PRO_0000042699 [P0C0L5]; P4874...   \n",
       "3             P01112; P27986; P27986-2; Q92569; P01112   \n",
       "4                                               Q5ZTM4   \n",
       "5                                                  NaN   \n",
       "..                                                 ...   \n",
       "126     Q15777; P20618; P49720; P28074; Q99436; P28065   \n",
       "127                                                NaN   \n",
       "128  P20963; P00533; P62993; P06239; O43586; O75563...   \n",
       "129                                             Q0VAB0   \n",
       "130  Q9NPF8; Q4VCS5; P04083; Q66PJ3; Q13315; Q13535...   \n",
       "\n",
       "0                   Gene Ontology (biological process)  \\\n",
       "1    autophagosome assembly [GO:0000045]; CAMKK-AMP...   \n",
       "2    cell surface pattern recognition receptor sign...   \n",
       "3    adaptive immune response [GO:0002250]; B cell ...   \n",
       "4    Arp2/3 complex-mediated actin nucleation [GO:0...   \n",
       "5    proteolysis [GO:0006508]; signal transduction ...   \n",
       "..                                                 ...   \n",
       "126                   proteasome assembly [GO:0043248]   \n",
       "127  activation of cysteine-type endopeptidase acti...   \n",
       "128  autophagy [GO:0006914]; cellular response to m...   \n",
       "129  angiogenesis [GO:0001525]; cell migration [GO:...   \n",
       "130  anoikis [GO:0043276]; apoptotic process [GO:00...   \n",
       "\n",
       "0                               Involvement in disease  \n",
       "1    DISEASE: Inflammatory bowel disease 19 (IBD19)...  \n",
       "2    DISEASE: MASP2 deficiency (MASPD) [MIM:613791]...  \n",
       "3    DISEASE: Immunodeficiency 14A, autosomal domin...  \n",
       "4    DISEASE: Immunodeficiency 71 with inflammatory...  \n",
       "5    DISEASE: Vitreoretinopathy, neovascular inflam...  \n",
       "..                                                 ...  \n",
       "126  DISEASE: Keratosis linearis with ichthyosis co...  \n",
       "127  DISEASE: Inflammatory bowel disease 30 (IBD30)...  \n",
       "128  DISEASE: Systemic lupus erythematosus (SLE) [M...  \n",
       "129  DISEASE: Note=Defects in NOX1 may play a role ...  \n",
       "130  DISEASE: Ectodermal dysplasia and immunodefici...  \n",
       "\n",
       "[130 rows x 8 columns]"
      ]
     },
     "execution_count": 143,
     "metadata": {},
     "output_type": "execute_result"
    }
   ],
   "source": [
    "df_inflammation"
   ]
  }
 ],
 "metadata": {
  "kernelspec": {
   "display_name": "Python 3 (ipykernel)",
   "language": "python",
   "name": "python3"
  },
  "language_info": {
   "codemirror_mode": {
    "name": "ipython",
    "version": 3
   },
   "file_extension": ".py",
   "mimetype": "text/x-python",
   "name": "python",
   "nbconvert_exporter": "python",
   "pygments_lexer": "ipython3",
   "version": "3.10.4"
  }
 },
 "nbformat": 4,
 "nbformat_minor": 5
}
